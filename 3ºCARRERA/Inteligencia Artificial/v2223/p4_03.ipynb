{
 "cells": [
  {
   "cell_type": "markdown",
   "metadata": {
    "collapsed": true
   },
   "source": [
    "# Práctica 4 de IA"
   ]
  },
  {
   "cell_type": "markdown",
   "metadata": {
    "collapsed": true
   },
   "source": [
    "## 3. Procesamiento de texto y datos no balanceados (3 puntos)"
   ]
  },
  {
   "cell_type": "code",
   "execution_count": 2,
   "metadata": {},
   "outputs": [
    {
     "ename": "ModuleNotFoundError",
     "evalue": "No module named 'pandas'",
     "output_type": "error",
     "traceback": [
      "\u001b[1;31m---------------------------------------------------------------------------\u001b[0m",
      "\u001b[1;31mModuleNotFoundError\u001b[0m                       Traceback (most recent call last)",
      "Cell \u001b[1;32mIn[2], line 1\u001b[0m\n\u001b[1;32m----> 1\u001b[0m \u001b[39mimport\u001b[39;00m \u001b[39mpandas\u001b[39;00m \u001b[39mas\u001b[39;00m \u001b[39mpd\u001b[39;00m\n\u001b[0;32m      3\u001b[0m df \u001b[39m=\u001b[39m pd\u001b[39m.\u001b[39mread_csv(\u001b[39m\"\u001b[39m\u001b[39mtrain.tsv\u001b[39m\u001b[39m\"\u001b[39m, sep\u001b[39m=\u001b[39m\u001b[39m'\u001b[39m\u001b[39m\\t\u001b[39;00m\u001b[39m'\u001b[39m, index_col\u001b[39m=\u001b[39m\u001b[39m\"\u001b[39m\u001b[39mPhraseId\u001b[39m\u001b[39m\"\u001b[39m)\n\u001b[0;32m      4\u001b[0m pd\u001b[39m.\u001b[39mset_option(\u001b[39m'\u001b[39m\u001b[39mdisplay.max_colwidth\u001b[39m\u001b[39m'\u001b[39m, \u001b[39mNone\u001b[39;00m)\n",
      "\u001b[1;31mModuleNotFoundError\u001b[0m: No module named 'pandas'"
     ]
    }
   ],
   "source": [
    "import pandas as pd\n",
    "\n",
    "df = pd.read_csv(\"train.tsv\", sep='\\t', index_col=\"PhraseId\")\n",
    "pd.set_option('display.max_colwidth', None)\n",
    "df.head(2)"
   ]
  },
  {
   "cell_type": "markdown",
   "metadata": {},
   "source": [
    "Este conjunto de datos que usaremos ahora permite aprender el sentimiento del texto a partir de frases etiquetadas.\n",
    "Las etiquetas para los sentimientos son:\n",
    "\n",
    "* 0 - negative\n",
    "* 1 - somewhat negative\n",
    "* 2 - neutral\n",
    "* 3 - somewhat positive\n",
    "* 4 - positive\n",
    "\n",
    "Más información [aquí](https://www.kaggle.com/c/sentiment-analysis-on-movie-reviews).\n",
    "\n",
    "\n",
    "A lo largo de este ejercicio veremos distintas formas de procesar el texto y de equilibrar las clases a aprender."
   ]
  },
  {
   "cell_type": "code",
   "execution_count": null,
   "metadata": {},
   "outputs": [],
   "source": [
    "from sklearn.model_selection import train_test_split\n",
    "\n",
    "train, test = train_test_split(df[[\"Phrase\", \"Sentiment\"]], random_state=0)\n",
    "X_train = train.Phrase\n",
    "X_test = test.Phrase\n",
    "y_train = train.Sentiment\n",
    "y_test = test.Sentiment"
   ]
  },
  {
   "cell_type": "markdown",
   "metadata": {},
   "source": [
    "**Modelos básicos**"
   ]
  },
  {
   "cell_type": "markdown",
   "metadata": {},
   "source": [
    "Vamos a comenzar con una concatenación (*pipe*) de modelos muy básicos y analizaremos si tienen algún problema."
   ]
  },
  {
   "cell_type": "code",
   "execution_count": null,
   "metadata": {},
   "outputs": [],
   "source": [
    "from sklearn.feature_extraction.text import CountVectorizer\n",
    "from sklearn.pipeline import make_pipeline\n",
    "from sklearn.tree import DecisionTreeClassifier\n",
    "\n",
    "count_vectorizer = CountVectorizer(max_features=1000)\n",
    "decision_tree = DecisionTreeClassifier(criterion='entropy', max_depth=2)\n",
    "pipe = make_pipeline(count_vectorizer,decision_tree)"
   ]
  },
  {
   "cell_type": "code",
   "execution_count": null,
   "metadata": {},
   "outputs": [],
   "source": [
    "from sklearn.metrics import accuracy_score\n",
    "\n",
    "def get_accuracy(pipe):\n",
    "    pipe.fit(X_train, y_train)\n",
    "    y_pred = pipe.predict(X_test)\n",
    "    return round(accuracy_score(y_pred, y_test),3)"
   ]
  },
  {
   "cell_type": "code",
   "execution_count": 1,
   "metadata": {},
   "outputs": [
    {
     "ename": "NameError",
     "evalue": "name 'get_accuracy' is not defined",
     "output_type": "error",
     "traceback": [
      "\u001b[1;31m---------------------------------------------------------------------------\u001b[0m",
      "\u001b[1;31mNameError\u001b[0m                                 Traceback (most recent call last)",
      "Cell \u001b[1;32mIn[1], line 1\u001b[0m\n\u001b[1;32m----> 1\u001b[0m get_accuracy(pipe)\n",
      "\u001b[1;31mNameError\u001b[0m: name 'get_accuracy' is not defined"
     ]
    }
   ],
   "source": [
    "get_accuracy(pipe)"
   ]
  },
  {
   "cell_type": "markdown",
   "metadata": {},
   "source": [
    "Veamos qué clases se están prediciendo de verdad"
   ]
  },
  {
   "cell_type": "code",
   "execution_count": 4,
   "metadata": {},
   "outputs": [
    {
     "ename": "NameError",
     "evalue": "name 'pd' is not defined",
     "output_type": "error",
     "traceback": [
      "\u001b[1;31m---------------------------------------------------------------------------\u001b[0m",
      "\u001b[1;31mNameError\u001b[0m                                 Traceback (most recent call last)",
      "Cell \u001b[1;32mIn[4], line 2\u001b[0m\n\u001b[0;32m      1\u001b[0m \u001b[39m# Etiquetas de entrenamiento\u001b[39;00m\n\u001b[1;32m----> 2\u001b[0m \u001b[39mround\u001b[39m(pd\u001b[39m.\u001b[39mSeries(y_train)\u001b[39m.\u001b[39mvalue_counts(normalize\u001b[39m=\u001b[39m\u001b[39mTrue\u001b[39;00m),\u001b[39m2\u001b[39m)\n",
      "\u001b[1;31mNameError\u001b[0m: name 'pd' is not defined"
     ]
    }
   ],
   "source": [
    "# Etiquetas de entrenamiento\n",
    "round(pd.Series(y_train).value_counts(normalize=True),2)"
   ]
  },
  {
   "cell_type": "code",
   "execution_count": null,
   "metadata": {},
   "outputs": [],
   "source": [
    "# Clases en predicción\n",
    "y_pred = pipe.predict(X_test)\n",
    "round(pd.Series(y_pred).value_counts(normalize=True),2)"
   ]
  },
  {
   "cell_type": "markdown",
   "metadata": {},
   "source": [
    "Es decir: al ser un problema no balanceado, la predicción está claramente sesgada hacia una de las clases.\n",
    "\n",
    "Esto se puede ver también analizando la **matriz de confusión**"
   ]
  },
  {
   "cell_type": "code",
   "execution_count": null,
   "metadata": {},
   "outputs": [],
   "source": [
    "import numpy as np\n",
    "from sklearn.metrics import confusion_matrix\n",
    "import matplotlib.pyplot as plt\n",
    "\n",
    "def plot_confusion_matrix(pipe):\n",
    "    ticks = np.unique(y_test)\n",
    "    labels = [('class '+ str(tick)) for tick in ticks]\n",
    "    y_pred = pipe.predict(X_test)\n",
    "    cm = confusion_matrix(y_test, y_pred)\n",
    "    fig = plt.figure(figsize=(10, 5))\n",
    "    ax = fig.add_subplot(111)\n",
    "    cax = ax.matshow(cm)\n",
    "    plt.title('Confusion matrix')\n",
    "    fig.colorbar(cax)\n",
    "    ax.set_xticks(ticks)\n",
    "    ax.set_xticklabels(labels)\n",
    "    ax.set_yticks(ticks)\n",
    "    ax.set_yticklabels(labels)\n",
    "    plt.xlabel('Predicted')\n",
    "    plt.ylabel('True')\n",
    "    plt.show()\n",
    "\n",
    "plot_confusion_matrix(pipe)"
   ]
  },
  {
   "cell_type": "markdown",
   "metadata": {},
   "source": [
    "## Cambio de modelos y procesamiento de los datos"
   ]
  },
  {
   "cell_type": "markdown",
   "metadata": {},
   "source": [
    "Analiza si algún otro modelo de los vistos en ejercicios anteriores evita este problema de las clases desbalanceadas.\n",
    "\n",
    "Por ejemplo, en la celda siguiente se cambia el árbol de decisión por un KNN."
   ]
  },
  {
   "cell_type": "code",
   "execution_count": null,
   "metadata": {},
   "outputs": [],
   "source": [
    "from sklearn.neighbors import KNeighborsClassifier\n",
    "\n",
    "knn = KNeighborsClassifier(n_neighbors=1)\n",
    "pipe_knn = make_pipeline(count_vectorizer,knn)\n",
    "get_accuracy(pipe_knn)"
   ]
  },
  {
   "cell_type": "code",
   "execution_count": null,
   "metadata": {},
   "outputs": [],
   "source": [
    "plot_confusion_matrix(pipe_knn)"
   ]
  },
  {
   "cell_type": "markdown",
   "metadata": {
    "collapsed": true
   },
   "source": [
    "### Explora varios modelos y responde:"
   ]
  },
  {
   "cell_type": "code",
   "execution_count": null,
   "metadata": {},
   "outputs": [],
   "source": [
    "nn2 = KNeighborsClassifier(n_neighbors=15)\n",
    "pipe_knn2 = make_pipeline(count_vectorizer,knn2)\n",
    "get_accuracy(pipe_knn2)\n"
   ]
  },
  {
   "cell_type": "code",
   "execution_count": null,
   "metadata": {},
   "outputs": [],
   "source": [
    "decision_tree2 = DecisionTreeClassifier(criterion='entropy', max_depth=5)\n",
    "pipe_tree2 = make_pipeline(count_vectorizer,decision_tree2)\n",
    "get_accuracy(pipe_tree2)\n"
   ]
  },
  {
   "cell_type": "code",
   "execution_count": null,
   "metadata": {},
   "outputs": [],
   "source": [
    "knn3 = KNeighborsClassifier(n_neighbors=17, weights=\"distance\")\n",
    "pipe_knn3 = make_pipeline(count_vectorizer,knn3)\n",
    "get_accuracy(pipe_knn3)\n"
   ]
  },
  {
   "cell_type": "code",
   "execution_count": null,
   "metadata": {},
   "outputs": [],
   "source": [
    "decision_tree3 = DecisionTreeClassifier(criterion='entropy', max_depth=20, class_weight=\"balanced\")\n",
    "pipe_tree3 = make_pipeline(count_vectorizer,decision_tree3)\n",
    "get_accuracy(pipe_tree3)\n"
   ]
  },
  {
   "cell_type": "markdown",
   "metadata": {},
   "source": [
    "* ¿Con qué modelo se obtienen mejores resultados?\n",
    "\n",
    "Inicialmente, con k-NN para k = 1 (0'564), ya mejoraba el accuracy frente a DecisionTree con profundidad 2 (0'515) y profundidad 5 (0,521) (profundidad con mejores resultados en la parte anterior), pero con k = 17 (hiperparámetro que mejor funcionó en el parte 2) el accuracy vuelve a bajar (0'555), con k = 15 (0,56) y con k = 13 (0'556).\n",
    "\n",
    "* ¿Hay algún parámetro de los modelos que sea particularmente efectivo en evitar el desbalanceo?\n",
    "\n",
    "Existen los parámetros 'weights' en k-NN y 'class_weight' en DecisionTree. Especialmente, 'weights=\"distance\"' es especialmente efectivo, pues ha conseguido subir el accuracy a 0'587 para k = 17.\n",
    "\n",
    "Nota: incluye tantas celdas como precises para enseñar el código que has usado para responder a estas preguntas."
   ]
  },
  {
   "cell_type": "markdown",
   "metadata": {},
   "source": [
    "(respuestas)"
   ]
  },
  {
   "cell_type": "markdown",
   "metadata": {},
   "source": [
    "### Procesamiento de los datos"
   ]
  },
  {
   "cell_type": "markdown",
   "metadata": {},
   "source": [
    "El primer paso que se usó en el *pipe* anterior es muy simple: sólo cuenta cuántas veces aparece cada término. Además, se ha limitado a un máximo de 1000 dimensiones. Prueba otras formas de procesar el texto y discute las diferencias. \n",
    "\n",
    "Como ejemplo, en la celda siguiente se usa un método que considera la frecuencia de los términos ([TfidfVectorizer](https://scikit-learn.org/stable/modules/generated/sklearn.feature_extraction.text.TfidfVectorizer.html)). La documentación muestra que permite varias configuraciones (eliminar acentos, pasar a minúsculas, realizar otras transformaciones más complejas, quitar palabras comunes, etc.)."
   ]
  },
  {
   "cell_type": "code",
   "execution_count": null,
   "metadata": {},
   "outputs": [],
   "source": [
    "from sklearn.feature_extraction.text import TfidfVectorizer\n",
    "\n",
    "tfidf_vectorizer = TfidfVectorizer()\n",
    "# tfidf_vectorizer = TfidfVectorizer(ngram_range=(1,3))\n",
    "pipe_tfidf = make_pipeline(tfidf_vectorizer, knn)\n",
    "print(get_accuracy(pipe_tfidf))\n",
    "plot_confusion_matrix(pipe_tfidf)"
   ]
  },
  {
   "cell_type": "code",
   "execution_count": null,
   "metadata": {},
   "outputs": [],
   "source": [
    "\n",
    "from sklearn.feature_extraction.text import TfidfVectorizer\n",
    "\n",
    "tfidf_vectorizer2 = TfidfVectorizer(ngram_range=(1,3))\n",
    "pipe_tfidf2 = make_pipeline(tfidf_vectorizer2, knn)\n",
    "print(get_accuracy(pipe_tfidf2))\n",
    "plot_confusion_matrix(pipe_tfidf2)"
   ]
  },
  {
   "cell_type": "code",
   "execution_count": null,
   "metadata": {},
   "outputs": [],
   "source": [
    "tfidf_vectorizer3 = TfidfVectorizer(ngram_range=(1,3))\n",
    "pipe_tfidf3 = make_pipeline(tfidf_vectorizer2, knn3)\n",
    "print(get_accuracy(pipe_tfidf3))\n",
    "plot_confusion_matrix(pipe_tfidf3)"
   ]
  },
  {
   "cell_type": "markdown",
   "metadata": {},
   "source": [
    "Realiza pruebas con varios clasificadores y configuraciones para el procesamiento de texto y contesta:\n",
    "\n",
    "* De acuerdo con tus experimentos, ¿afecta más cambiar el clasificador o cómo se procesa el texto?\n",
    "\n",
    "Por los apartados anteriores, hemos podido comprobar que el cambiar el clasificador afecta al procesamiento de texto y por tanto al accuray. En este apartado hemos probado distintos tipos de procesamientos de texto y también afectan al accuracy. En principio, parece que los que mejor mejoran el accuracy son los procesadores de texto.\n",
    "\n",
    "* ¿Has encontrado algún tipo de procesamiento que siempre mejore los resultados? ¿En qué hipótesis te has basado para probarlo?"
   ]
  },
  {
   "cell_type": "code",
   "execution_count": null,
   "metadata": {},
   "outputs": [],
   "source": [
    "# incluye aquí tu código\n",
    "\n"
   ]
  },
  {
   "cell_type": "markdown",
   "metadata": {},
   "source": [
    "## Conclusiones.\n",
    "Resume los resultados y conclusiones del estudio que has realizado.\n",
    "[POR HACER]\n"
   ]
  },
  {
   "cell_type": "code",
   "execution_count": null,
   "metadata": {},
   "outputs": [],
   "source": []
  }
 ],
 "metadata": {
  "kernelspec": {
   "display_name": "Python 3.9.13 64-bit (microsoft store)",
   "language": "python",
   "name": "python3"
  },
  "language_info": {
   "codemirror_mode": {
    "name": "ipython",
    "version": 3
   },
   "file_extension": ".py",
   "mimetype": "text/x-python",
   "name": "python",
   "nbconvert_exporter": "python",
   "pygments_lexer": "ipython3",
   "version": "3.9.13 (tags/v3.9.13:6de2ca5, May 17 2022, 16:36:42) [MSC v.1929 64 bit (AMD64)]"
  },
  "vscode": {
   "interpreter": {
    "hash": "2a30d898375753148e8fc7012ddaeb574b6d0ae01b90a80f9092b4d27bfa7765"
   }
  }
 },
 "nbformat": 4,
 "nbformat_minor": 1
}
